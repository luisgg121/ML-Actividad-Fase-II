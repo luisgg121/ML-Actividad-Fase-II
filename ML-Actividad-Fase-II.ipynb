{
 "cells": [
  {
   "cell_type": "code",
   "execution_count": 2,
   "id": "260d14da-a7fb-48a5-bb70-94fa08dcb0ee",
   "metadata": {},
   "outputs": [
    {
     "name": "stdout",
     "output_type": "stream",
     "text": [
      "Precisión: 0.9895\n",
      "Matriz de confusión:\n",
      " [[ 919   14]\n",
      " [   7 1060]]\n",
      "Reporte de clasificación:\n",
      "               precision    recall  f1-score   support\n",
      "\n",
      "           0       0.99      0.98      0.99       933\n",
      "           1       0.99      0.99      0.99      1067\n",
      "\n",
      "    accuracy                           0.99      2000\n",
      "   macro avg       0.99      0.99      0.99      2000\n",
      "weighted avg       0.99      0.99      0.99      2000\n",
      "\n"
     ]
    }
   ],
   "source": [
    "# ML Actividad de la Fase 2\n",
    "# b) modelo de aprendizaje automático supervisado a partir del conjunto de datos elaborado, que sea capaz de determinar el tipo de protocolo\n",
    "#    que debe seguir el vehículo al manipular un producto cualquiera en el trayecto del almacén a la zona de manufactura.\n",
    "#\n",
    "import pandas as pd\n",
    "from sklearn.model_selection import train_test_split\n",
    "from sklearn.preprocessing import LabelEncoder\n",
    "from sklearn.ensemble import RandomForestClassifier\n",
    "from sklearn.metrics import classification_report, confusion_matrix, accuracy_score\n",
    "\n",
    "# 1. Cargar los datos\n",
    "df = pd.read_excel(\"Datos.xlsx\")\n",
    "\n",
    "# 2. Preprocesamiento\n",
    "# Eliminar filas vacías o incompletas\n",
    "df.dropna(inplace=True)\n",
    "\n",
    "# Codificar variables categóricas\n",
    "label_cols = ['Procedencia', 'Manipulacion', 'Temperatura', 'Protocolo']\n",
    "encoders = {col: LabelEncoder() for col in label_cols}\n",
    "for col in label_cols:\n",
    "    df[col] = encoders[col].fit_transform(df[col])\n",
    "\n",
    "# 3. Separar variables\n",
    "X = df[['Embalaje', 'Ancho', 'Largo', 'Alto', 'Peso (kg)', 'Procedencia', 'Manipulacion', 'Temperatura']]\n",
    "y = df['Protocolo']\n",
    "\n",
    "# 4. División de datos\n",
    "X_train, X_test, y_train, y_test = train_test_split(X, y, test_size=0.2, random_state=42)\n",
    "\n",
    "# 5. Entrenamiento del modelo\n",
    "model = RandomForestClassifier(n_estimators=100, random_state=42)\n",
    "model.fit(X_train, y_train)\n",
    "\n",
    "# 6. Evaluación\n",
    "y_pred = model.predict(X_test)\n",
    "print(\"Precisión:\", accuracy_score(y_test, y_pred))\n",
    "print(\"Matriz de confusión:\\n\", confusion_matrix(y_test, y_pred))\n",
    "print(\"Reporte de clasificación:\\n\", classification_report(y_test, y_pred))\n"
   ]
  },
  {
   "cell_type": "code",
   "execution_count": 3,
   "id": "149545f0-2777-4762-a7af-6cb2c5180e91",
   "metadata": {},
   "outputs": [
    {
     "data": {
      "text/plain": [
       "['modelo_protocolo.pkl']"
      ]
     },
     "execution_count": 3,
     "metadata": {},
     "output_type": "execute_result"
    }
   ],
   "source": [
    "import joblib\n",
    "joblib.dump(model, 'modelo_protocolo.pkl')"
   ]
  },
  {
   "cell_type": "code",
   "execution_count": null,
   "id": "88af8487-090a-49f0-8019-4dfd7ddd172e",
   "metadata": {},
   "outputs": [],
   "source": []
  }
 ],
 "metadata": {
  "kernelspec": {
   "display_name": "anaconda-panel-2023.05-py310",
   "language": "python",
   "name": "conda-env-anaconda-panel-2023.05-py310-py"
  },
  "language_info": {
   "codemirror_mode": {
    "name": "ipython",
    "version": 3
   },
   "file_extension": ".py",
   "mimetype": "text/x-python",
   "name": "python",
   "nbconvert_exporter": "python",
   "pygments_lexer": "ipython3",
   "version": "3.11.5"
  }
 },
 "nbformat": 4,
 "nbformat_minor": 5
}
